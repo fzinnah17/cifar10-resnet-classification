{
 "cells": [
  {
   "cell_type": "code",
   "execution_count": 25,
   "metadata": {},
   "outputs": [],
   "source": [
    "import os\n",
    "import pickle\n",
    "import numpy as np\n",
    "import torch\n",
    "from torch.utils.data import Dataset, DataLoader, random_split\n",
    "import torchvision.transforms as transforms"
   ]
  },
  {
   "cell_type": "code",
   "execution_count": 26,
   "metadata": {},
   "outputs": [],
   "source": [
    "def unpickle(file):\n",
    "    print(f\"Unpickling file: {file}\")\n",
    "    with open(file, 'rb') as fo:\n",
    "        data_dict = pickle.load(fo, encoding='bytes')\n",
    "    print(\"Finished unpickling.\")\n",
    "    return data_dict"
   ]
  },
  {
   "cell_type": "code",
   "execution_count": 27,
   "metadata": {},
   "outputs": [],
   "source": [
    "data_dir = \"../data/cifar-10-python/cifar-10-batches-py\""
   ]
  },
  {
   "cell_type": "code",
   "execution_count": 28,
   "metadata": {},
   "outputs": [
    {
     "name": "stdout",
     "output_type": "stream",
     "text": [
      "Data directory: ../data/cifar-10-python/cifar-10-batches-py\n"
     ]
    }
   ],
   "source": [
    "print(f\"Data directory: {data_dir}\")"
   ]
  },
  {
   "cell_type": "markdown",
   "metadata": {},
   "source": [
    "### Load each of the five batches"
   ]
  },
  {
   "cell_type": "code",
   "execution_count": 29,
   "metadata": {},
   "outputs": [
    {
     "name": "stdout",
     "output_type": "stream",
     "text": [
      "Loading batch file: ../data/cifar-10-python/cifar-10-batches-py/data_batch_1\n",
      "Unpickling file: ../data/cifar-10-python/cifar-10-batches-py/data_batch_1\n",
      "Finished unpickling.\n",
      "Loaded batch 1: data shape (10000, 3072), labels count 10000\n",
      "Loading batch file: ../data/cifar-10-python/cifar-10-batches-py/data_batch_2\n",
      "Unpickling file: ../data/cifar-10-python/cifar-10-batches-py/data_batch_2\n",
      "Finished unpickling.\n",
      "Loaded batch 2: data shape (10000, 3072), labels count 10000\n",
      "Loading batch file: ../data/cifar-10-python/cifar-10-batches-py/data_batch_3\n",
      "Unpickling file: ../data/cifar-10-python/cifar-10-batches-py/data_batch_3\n",
      "Finished unpickling.\n",
      "Loaded batch 3: data shape (10000, 3072), labels count 10000\n",
      "Loading batch file: ../data/cifar-10-python/cifar-10-batches-py/data_batch_4\n",
      "Unpickling file: ../data/cifar-10-python/cifar-10-batches-py/data_batch_4\n",
      "Finished unpickling.\n",
      "Loaded batch 4: data shape (10000, 3072), labels count 10000\n",
      "Loading batch file: ../data/cifar-10-python/cifar-10-batches-py/data_batch_5\n",
      "Unpickling file: ../data/cifar-10-python/cifar-10-batches-py/data_batch_5\n",
      "Finished unpickling.\n",
      "Loaded batch 5: data shape (10000, 3072), labels count 10000\n"
     ]
    }
   ],
   "source": [
    "data_list = []\n",
    "labels_list = []\n",
    "\n",
    "for i in range(1, 6):\n",
    "    batch_file = os.path.join(data_dir, f\"data_batch_{i}\")\n",
    "    print(f\"Loading batch file: {batch_file}\")\n",
    "    batch = unpickle(batch_file)\n",
    "    data = batch[b\"data\"]  # Shape: (10000, 3072)\n",
    "    labels = batch[b\"labels\"]  # List of 10000 labels\n",
    "    data_list.append(data)\n",
    "    labels_list.extend(labels)\n",
    "    print(f\"Loaded batch {i}: data shape {data.shape}, labels count {len(labels)}\")"
   ]
  },
  {
   "cell_type": "code",
   "execution_count": 30,
   "metadata": {},
   "outputs": [
    {
     "name": "stdout",
     "output_type": "stream",
     "text": [
      "Concatenated data shape (before reshaping): (50000, 3072)\n"
     ]
    }
   ],
   "source": [
    "all_data = np.concatenate(data_list, axis=0)\n",
    "print(\"Concatenated data shape (before reshaping):\", all_data.shape)"
   ]
  },
  {
   "cell_type": "code",
   "execution_count": 31,
   "metadata": {},
   "outputs": [
    {
     "name": "stdout",
     "output_type": "stream",
     "text": [
      "Data reshaped to: (50000, 3, 32, 32)\n"
     ]
    }
   ],
   "source": [
    "all_data = all_data.reshape(-1, 3, 32, 32)\n",
    "print(\"Data reshaped to:\", all_data.shape)"
   ]
  },
  {
   "cell_type": "code",
   "execution_count": 32,
   "metadata": {},
   "outputs": [
    {
     "name": "stdout",
     "output_type": "stream",
     "text": [
      "All labels shape: (50000,)\n"
     ]
    }
   ],
   "source": [
    "all_labels = np.array(labels_list)\n",
    "print(\"All labels shape:\", all_labels.shape)"
   ]
  },
  {
   "cell_type": "code",
   "execution_count": 33,
   "metadata": {},
   "outputs": [],
   "source": [
    "class CIFAR10Dataset(Dataset):\n",
    "    def __init__(self, data, labels, transform=None):\n",
    "        self.data = data\n",
    "        self.labels = labels\n",
    "        self.transform = transform\n",
    "\n",
    "    def __len__(self):\n",
    "        return len(self.data)\n",
    "    \n",
    "    def __getitem__(self, idx):\n",
    "        image = self.data[idx]\n",
    "        label = self.labels[idx]\n",
    "        # Convert image to torch tensor and float type\n",
    "        image = torch.from_numpy(image).float()\n",
    "        if self.transform:\n",
    "            image = self.transform(image)\n",
    "        return image, label"
   ]
  },
  {
   "cell_type": "markdown",
   "metadata": {},
   "source": [
    "### A normalization transform"
   ]
  },
  {
   "cell_type": "code",
   "execution_count": 34,
   "metadata": {},
   "outputs": [
    {
     "name": "stdout",
     "output_type": "stream",
     "text": [
      "Normalization transform created.\n"
     ]
    }
   ],
   "source": [
    "transform = transforms.Compose([\n",
    "    transforms.Normalize((125.3, 123.0, 113.9), (63.0, 62.1, 66.7))\n",
    "])\n",
    "print(\"Normalization transform created.\")"
   ]
  },
  {
   "cell_type": "code",
   "execution_count": 35,
   "metadata": {},
   "outputs": [
    {
     "name": "stdout",
     "output_type": "stream",
     "text": [
      "CIFAR10Dataset created with length: 50000\n"
     ]
    }
   ],
   "source": [
    "dataset = CIFAR10Dataset(all_data, all_labels, transform=transform)\n",
    "print(\"CIFAR10Dataset created with length:\", len(dataset))"
   ]
  },
  {
   "cell_type": "markdown",
   "metadata": {},
   "source": [
    "### Splitted the dataset into training (45,000) and validation (5,000) sets"
   ]
  },
  {
   "cell_type": "code",
   "execution_count": 36,
   "metadata": {},
   "outputs": [
    {
     "name": "stdout",
     "output_type": "stream",
     "text": [
      "Dataset split:\n",
      "  Training samples: 45000\n",
      "  Validation samples: 5000\n"
     ]
    }
   ],
   "source": [
    "train_size = 45000\n",
    "val_size = len(dataset) - train_size\n",
    "train_dataset, val_dataset = random_split(dataset, [train_size, val_size])\n",
    "print(\"Dataset split:\")\n",
    "print(\"  Training samples:\", len(train_dataset))\n",
    "print(\"  Validation samples:\", len(val_dataset))"
   ]
  },
  {
   "cell_type": "markdown",
   "metadata": {},
   "source": [
    "### Created the DataLoaders for the training and validation sets"
   ]
  },
  {
   "cell_type": "code",
   "execution_count": 37,
   "metadata": {},
   "outputs": [
    {
     "name": "stdout",
     "output_type": "stream",
     "text": [
      "DataLoaders created for training and validation.\n"
     ]
    }
   ],
   "source": [
    "train_loader = DataLoader(train_dataset, batch_size=64, shuffle=True)\n",
    "val_loader = DataLoader(val_dataset, batch_size=64, shuffle=False)\n",
    "print(\"DataLoaders created for training and validation.\")"
   ]
  },
  {
   "cell_type": "code",
   "execution_count": 38,
   "metadata": {},
   "outputs": [
    {
     "name": "stdout",
     "output_type": "stream",
     "text": [
      "First batch images shape: torch.Size([64, 3, 32, 32])\n",
      "First batch labels shape: torch.Size([64])\n"
     ]
    }
   ],
   "source": [
    "for images, labels in train_loader:\n",
    "    print(\"First batch images shape:\", images.shape)\n",
    "    print(\"First batch labels shape:\", labels.shape)\n",
    "    break"
   ]
  }
 ],
 "metadata": {
  "kernelspec": {
   "display_name": "Python 3",
   "language": "python",
   "name": "python3"
  },
  "language_info": {
   "codemirror_mode": {
    "name": "ipython",
    "version": 3
   },
   "file_extension": ".py",
   "mimetype": "text/x-python",
   "name": "python",
   "nbconvert_exporter": "python",
   "pygments_lexer": "ipython3",
   "version": "3.11.0b4"
  }
 },
 "nbformat": 4,
 "nbformat_minor": 2
}
